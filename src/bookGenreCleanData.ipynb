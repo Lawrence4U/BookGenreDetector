{
 "cells": [
  {
   "cell_type": "code",
   "execution_count": 1,
   "metadata": {},
   "outputs": [
    {
     "name": "stderr",
     "output_type": "stream",
     "text": [
      "[nltk_data] Downloading package wordnet to\n",
      "[nltk_data]     C:\\Users\\Alvaro\\AppData\\Roaming\\nltk_data...\n",
      "[nltk_data]   Package wordnet is already up-to-date!\n",
      "[nltk_data] Downloading package stopwords to\n",
      "[nltk_data]     C:\\Users\\Alvaro\\AppData\\Roaming\\nltk_data...\n",
      "[nltk_data]   Package stopwords is already up-to-date!\n",
      "[nltk_data] Downloading package punkt to\n",
      "[nltk_data]     C:\\Users\\Alvaro\\AppData\\Roaming\\nltk_data...\n",
      "[nltk_data]   Package punkt is already up-to-date!\n",
      "c:\\Users\\Alvaro\\miniconda3\\envs\\tf\\lib\\site-packages\\tqdm\\auto.py:21: TqdmWarning: IProgress not found. Please update jupyter and ipywidgets. See https://ipywidgets.readthedocs.io/en/stable/user_install.html\n",
      "  from .autonotebook import tqdm as notebook_tqdm\n"
     ]
    }
   ],
   "source": [
    "import pandas as pd\n",
    "import json\n",
    "import nltk\n",
    "import matplotlib.pyplot as plt\n",
    "import seaborn as sns\n",
    "import wordcloud\n",
    "import tensorflow as tf\n",
    "import keras_tuner\n",
    "from nltk.probability import FreqDist\n",
    "from funciones import build_optimizer, get_sent_tokens,get_lemma,get_stems,remove_stop_words,get_word_tokens, remove_special_characters, tokenize_summary, filter_and_tokenize_words, get_word_counter\n",
    "from sklearn.ensemble import RandomForestClassifier\n",
    "from sklearn.svm import SVC\n",
    "from sklearn.model_selection import GridSearchCV, RandomizedSearchCV\n",
    "from sklearn.feature_extraction.text import TfidfVectorizer, CountVectorizer\n",
    "from sklearn.preprocessing import LabelEncoder\n",
    "from sklearn.model_selection import train_test_split\n",
    "from sklearn.metrics import accuracy_score \n",
    "from sklearn.metrics import classification_report \n",
    "from sklearn.linear_model import LogisticRegression\n",
    "from sklearn.multiclass import OneVsRestClassifier\n",
    "from optuna.integration import OptunaSearchCV\n",
    "from optuna.distributions import IntDistribution, CategoricalDistribution,LogUniformDistribution\n",
    "from keras.preprocessing import sequence\n",
    "from keras.layers import LSTM, Dense, Embedding, SimpleRNN, Dropout\n",
    "from keras.models import Sequential\n",
    "from keras.callbacks import EarlyStopping\n",
    "from keras.utils import to_categorical, pad_sequences\n",
    "\n",
    "\n"
   ]
  },
  {
   "cell_type": "code",
   "execution_count": 2,
   "metadata": {},
   "outputs": [],
   "source": [
    "import pickle\n",
    "with open(\"data_clean.pkl\", \"rb\") as f:\n",
    "    data = pickle.load(f)"
   ]
  },
  {
   "cell_type": "code",
   "execution_count": 3,
   "metadata": {},
   "outputs": [
    {
     "data": {
      "text/plain": [
       "{\"Children's literature\": 0,\n",
       " 'Crime Fiction': 1,\n",
       " 'Fantasy': 2,\n",
       " 'Fiction': 3,\n",
       " 'Historical novel': 4,\n",
       " 'Horror': 5,\n",
       " 'Mystery': 6,\n",
       " 'Science Fiction': 7,\n",
       " 'Thriller': 8}"
      ]
     },
     "execution_count": 3,
     "metadata": {},
     "output_type": "execute_result"
    }
   ],
   "source": [
    "#usamos label encoder para codificar cada género\n",
    "LE = LabelEncoder()\n",
    "y=LE.fit_transform(data['genre'])\n",
    "dict(zip(LE.classes_,LE.transform(LE.classes_)))"
   ]
  },
  {
   "cell_type": "code",
   "execution_count": 4,
   "metadata": {},
   "outputs": [],
   "source": [
    "X_train, X_test, y_train, y_test = train_test_split(data['summary'], y, test_size=0.2, random_state=557) "
   ]
  },
  {
   "cell_type": "code",
   "execution_count": 5,
   "metadata": {},
   "outputs": [],
   "source": [
    "#aplicamos tf-idf para poder pasarlo a los modelos\n",
    "# Initialize TfidfVectorizer\n",
    "tfidf_vectorizer = TfidfVectorizer() # se ha visto que funciona mejor sin limtar el max_df ni el max_features\n",
    "\n",
    "# Fit and transform the documents\n",
    "tf_train  = tfidf_vectorizer.fit_transform(X_train)\n",
    "\n",
    "# Convert the TF-IDF matrix to a pandas DataFrame\n",
    "tf_test = tfidf_vectorizer.transform(X_test)\n",
    "\n"
   ]
  },
  {
   "cell_type": "code",
   "execution_count": 6,
   "metadata": {},
   "outputs": [],
   "source": [
    "def apply_tfidf(string):\n",
    "    tfidf_vectorizer = TfidfVectorizer() # se ha visto que funciona mejor sin limtar el max_df ni el max_features\n",
    "    # Fit and transform the documents\n",
    "    tf_train  = tfidf_vectorizer.fit_transform(X_train)\n",
    "    # Convert the TF-IDF matrix to a pandas DataFrame\n",
    "    tf_test = tfidf_vectorizer.transform(string)\n",
    "    return tf_test\n",
    "    "
   ]
  },
  {
   "cell_type": "markdown",
   "metadata": {},
   "source": [
    "# Modelos"
   ]
  },
  {
   "cell_type": "markdown",
   "metadata": {},
   "source": [
    "## Random Forest"
   ]
  },
  {
   "cell_type": "code",
   "execution_count": 7,
   "metadata": {},
   "outputs": [
    {
     "name": "stdout",
     "output_type": "stream",
     "text": [
      "Fitting 2 folds for each of 270 candidates, totalling 540 fits\n",
      "Best parameters found:  {'max_depth': 50, 'max_features': 'sqrt', 'min_samples_leaf': 1, 'min_samples_split': 5, 'n_estimators': 1000}\n",
      "Best score found:  0.507863537382047\n"
     ]
    }
   ],
   "source": [
    "param_grid = {\n",
    "    'n_estimators': [100, 300, 500, 1000, 1500],\n",
    "    'max_depth': [10,20,50],\n",
    "    'min_samples_split':[2, 5, 10],\n",
    "    'min_samples_leaf': [1, 2, 4],\n",
    "    'max_features': ['log2','sqrt']\n",
    "}\n",
    "rf = RandomForestClassifier()\n",
    "\n",
    "grid = GridSearchCV(\n",
    "    estimator=rf,\n",
    "    param_grid=param_grid,\n",
    "    cv=2,\n",
    "    n_jobs=-1,\n",
    "    verbose=True\n",
    ")\n",
    "# fit model on train data.\n",
    "grid.fit(tf_train, y_train)\n",
    "\n",
    "print(\"Best parameters found: \", grid.best_params_)\n",
    "print(\"Best score found: \", grid.best_score_)\n",
    "rf = grid.best_estimator_"
   ]
  },
  {
   "cell_type": "code",
   "execution_count": 8,
   "metadata": {},
   "outputs": [],
   "source": [
    "#guardamos los resultados para poder recuperarlo sin ejecutar todo\n",
    "import pickle\n",
    "with open(\"rf_clean.pkl\", 'wb') as f:\n",
    "    pickle.dump(grid, f)"
   ]
  },
  {
   "cell_type": "code",
   "execution_count": 9,
   "metadata": {},
   "outputs": [],
   "source": [
    "import pickle\n",
    "with open(\"rf_clean.pkl\", 'rb') as f:\n",
    "    grid = pickle.load(f)"
   ]
  },
  {
   "cell_type": "code",
   "execution_count": 10,
   "metadata": {},
   "outputs": [
    {
     "data": {
      "text/html": [
       "<style>#sk-container-id-1 {color: black;}#sk-container-id-1 pre{padding: 0;}#sk-container-id-1 div.sk-toggleable {background-color: white;}#sk-container-id-1 label.sk-toggleable__label {cursor: pointer;display: block;width: 100%;margin-bottom: 0;padding: 0.3em;box-sizing: border-box;text-align: center;}#sk-container-id-1 label.sk-toggleable__label-arrow:before {content: \"▸\";float: left;margin-right: 0.25em;color: #696969;}#sk-container-id-1 label.sk-toggleable__label-arrow:hover:before {color: black;}#sk-container-id-1 div.sk-estimator:hover label.sk-toggleable__label-arrow:before {color: black;}#sk-container-id-1 div.sk-toggleable__content {max-height: 0;max-width: 0;overflow: hidden;text-align: left;background-color: #f0f8ff;}#sk-container-id-1 div.sk-toggleable__content pre {margin: 0.2em;color: black;border-radius: 0.25em;background-color: #f0f8ff;}#sk-container-id-1 input.sk-toggleable__control:checked~div.sk-toggleable__content {max-height: 200px;max-width: 100%;overflow: auto;}#sk-container-id-1 input.sk-toggleable__control:checked~label.sk-toggleable__label-arrow:before {content: \"▾\";}#sk-container-id-1 div.sk-estimator input.sk-toggleable__control:checked~label.sk-toggleable__label {background-color: #d4ebff;}#sk-container-id-1 div.sk-label input.sk-toggleable__control:checked~label.sk-toggleable__label {background-color: #d4ebff;}#sk-container-id-1 input.sk-hidden--visually {border: 0;clip: rect(1px 1px 1px 1px);clip: rect(1px, 1px, 1px, 1px);height: 1px;margin: -1px;overflow: hidden;padding: 0;position: absolute;width: 1px;}#sk-container-id-1 div.sk-estimator {font-family: monospace;background-color: #f0f8ff;border: 1px dotted black;border-radius: 0.25em;box-sizing: border-box;margin-bottom: 0.5em;}#sk-container-id-1 div.sk-estimator:hover {background-color: #d4ebff;}#sk-container-id-1 div.sk-parallel-item::after {content: \"\";width: 100%;border-bottom: 1px solid gray;flex-grow: 1;}#sk-container-id-1 div.sk-label:hover label.sk-toggleable__label {background-color: #d4ebff;}#sk-container-id-1 div.sk-serial::before {content: \"\";position: absolute;border-left: 1px solid gray;box-sizing: border-box;top: 0;bottom: 0;left: 50%;z-index: 0;}#sk-container-id-1 div.sk-serial {display: flex;flex-direction: column;align-items: center;background-color: white;padding-right: 0.2em;padding-left: 0.2em;position: relative;}#sk-container-id-1 div.sk-item {position: relative;z-index: 1;}#sk-container-id-1 div.sk-parallel {display: flex;align-items: stretch;justify-content: center;background-color: white;position: relative;}#sk-container-id-1 div.sk-item::before, #sk-container-id-1 div.sk-parallel-item::before {content: \"\";position: absolute;border-left: 1px solid gray;box-sizing: border-box;top: 0;bottom: 0;left: 50%;z-index: -1;}#sk-container-id-1 div.sk-parallel-item {display: flex;flex-direction: column;z-index: 1;position: relative;background-color: white;}#sk-container-id-1 div.sk-parallel-item:first-child::after {align-self: flex-end;width: 50%;}#sk-container-id-1 div.sk-parallel-item:last-child::after {align-self: flex-start;width: 50%;}#sk-container-id-1 div.sk-parallel-item:only-child::after {width: 0;}#sk-container-id-1 div.sk-dashed-wrapped {border: 1px dashed gray;margin: 0 0.4em 0.5em 0.4em;box-sizing: border-box;padding-bottom: 0.4em;background-color: white;}#sk-container-id-1 div.sk-label label {font-family: monospace;font-weight: bold;display: inline-block;line-height: 1.2em;}#sk-container-id-1 div.sk-label-container {text-align: center;}#sk-container-id-1 div.sk-container {/* jupyter's `normalize.less` sets `[hidden] { display: none; }` but bootstrap.min.css set `[hidden] { display: none !important; }` so we also need the `!important` here to be able to override the default hidden behavior on the sphinx rendered scikit-learn.org. See: https://github.com/scikit-learn/scikit-learn/issues/21755 */display: inline-block !important;position: relative;}#sk-container-id-1 div.sk-text-repr-fallback {display: none;}</style><div id=\"sk-container-id-1\" class=\"sk-top-container\"><div class=\"sk-text-repr-fallback\"><pre>GridSearchCV(cv=2, estimator=RandomForestClassifier(), n_jobs=-1,\n",
       "             param_grid={&#x27;max_depth&#x27;: [10, 20, 50],\n",
       "                         &#x27;max_features&#x27;: [&#x27;log2&#x27;, &#x27;sqrt&#x27;],\n",
       "                         &#x27;min_samples_leaf&#x27;: [1, 2, 4],\n",
       "                         &#x27;min_samples_split&#x27;: [2, 5, 10],\n",
       "                         &#x27;n_estimators&#x27;: [100, 300, 500, 1000, 1500]},\n",
       "             verbose=True)</pre><b>In a Jupyter environment, please rerun this cell to show the HTML representation or trust the notebook. <br />On GitHub, the HTML representation is unable to render, please try loading this page with nbviewer.org.</b></div><div class=\"sk-container\" hidden><div class=\"sk-item sk-dashed-wrapped\"><div class=\"sk-label-container\"><div class=\"sk-label sk-toggleable\"><input class=\"sk-toggleable__control sk-hidden--visually\" id=\"sk-estimator-id-1\" type=\"checkbox\" ><label for=\"sk-estimator-id-1\" class=\"sk-toggleable__label sk-toggleable__label-arrow\">GridSearchCV</label><div class=\"sk-toggleable__content\"><pre>GridSearchCV(cv=2, estimator=RandomForestClassifier(), n_jobs=-1,\n",
       "             param_grid={&#x27;max_depth&#x27;: [10, 20, 50],\n",
       "                         &#x27;max_features&#x27;: [&#x27;log2&#x27;, &#x27;sqrt&#x27;],\n",
       "                         &#x27;min_samples_leaf&#x27;: [1, 2, 4],\n",
       "                         &#x27;min_samples_split&#x27;: [2, 5, 10],\n",
       "                         &#x27;n_estimators&#x27;: [100, 300, 500, 1000, 1500]},\n",
       "             verbose=True)</pre></div></div></div><div class=\"sk-parallel\"><div class=\"sk-parallel-item\"><div class=\"sk-item\"><div class=\"sk-label-container\"><div class=\"sk-label sk-toggleable\"><input class=\"sk-toggleable__control sk-hidden--visually\" id=\"sk-estimator-id-2\" type=\"checkbox\" ><label for=\"sk-estimator-id-2\" class=\"sk-toggleable__label sk-toggleable__label-arrow\">estimator: RandomForestClassifier</label><div class=\"sk-toggleable__content\"><pre>RandomForestClassifier()</pre></div></div></div><div class=\"sk-serial\"><div class=\"sk-item\"><div class=\"sk-estimator sk-toggleable\"><input class=\"sk-toggleable__control sk-hidden--visually\" id=\"sk-estimator-id-3\" type=\"checkbox\" ><label for=\"sk-estimator-id-3\" class=\"sk-toggleable__label sk-toggleable__label-arrow\">RandomForestClassifier</label><div class=\"sk-toggleable__content\"><pre>RandomForestClassifier()</pre></div></div></div></div></div></div></div></div></div></div>"
      ],
      "text/plain": [
       "GridSearchCV(cv=2, estimator=RandomForestClassifier(), n_jobs=-1,\n",
       "             param_grid={'max_depth': [10, 20, 50],\n",
       "                         'max_features': ['log2', 'sqrt'],\n",
       "                         'min_samples_leaf': [1, 2, 4],\n",
       "                         'min_samples_split': [2, 5, 10],\n",
       "                         'n_estimators': [100, 300, 500, 1000, 1500]},\n",
       "             verbose=True)"
      ]
     },
     "execution_count": 10,
     "metadata": {},
     "output_type": "execute_result"
    }
   ],
   "source": [
    "grid"
   ]
  },
  {
   "cell_type": "code",
   "execution_count": 11,
   "metadata": {},
   "outputs": [],
   "source": [
    "rf = grid.best_estimator_"
   ]
  },
  {
   "cell_type": "code",
   "execution_count": 12,
   "metadata": {},
   "outputs": [
    {
     "name": "stdout",
     "output_type": "stream",
     "text": [
      "Accuracy Score : 0.5471698113207547\n",
      "Report : \n",
      "              precision    recall  f1-score   support\n",
      "\n",
      "           0       0.73      0.34      0.46       267\n",
      "           1       0.67      0.38      0.48       138\n",
      "           2       0.58      0.52      0.55       288\n",
      "           3       0.43      0.80      0.56       399\n",
      "           4       0.00      0.00      0.00        99\n",
      "           5       1.00      0.10      0.18        82\n",
      "           6       0.89      0.18      0.29       136\n",
      "           7       0.59      0.89      0.71       548\n",
      "           8       0.00      0.00      0.00       110\n",
      "\n",
      "    accuracy                           0.55      2067\n",
      "   macro avg       0.54      0.36      0.36      2067\n",
      "weighted avg       0.56      0.55      0.49      2067\n",
      "\n"
     ]
    },
    {
     "name": "stderr",
     "output_type": "stream",
     "text": [
      "c:\\Users\\Alvaro\\miniconda3\\envs\\tf\\lib\\site-packages\\sklearn\\metrics\\_classification.py:1469: UndefinedMetricWarning: Precision and F-score are ill-defined and being set to 0.0 in labels with no predicted samples. Use `zero_division` parameter to control this behavior.\n",
      "  _warn_prf(average, modifier, msg_start, len(result))\n",
      "c:\\Users\\Alvaro\\miniconda3\\envs\\tf\\lib\\site-packages\\sklearn\\metrics\\_classification.py:1469: UndefinedMetricWarning: Precision and F-score are ill-defined and being set to 0.0 in labels with no predicted samples. Use `zero_division` parameter to control this behavior.\n",
      "  _warn_prf(average, modifier, msg_start, len(result))\n",
      "c:\\Users\\Alvaro\\miniconda3\\envs\\tf\\lib\\site-packages\\sklearn\\metrics\\_classification.py:1469: UndefinedMetricWarning: Precision and F-score are ill-defined and being set to 0.0 in labels with no predicted samples. Use `zero_division` parameter to control this behavior.\n",
      "  _warn_prf(average, modifier, msg_start, len(result))\n"
     ]
    }
   ],
   "source": [
    "# make predictions for validation set.\n",
    "y_pred = rf.predict(tf_test)\n",
    "\n",
    "#Calculating the accuracy.\n",
    "print( 'Accuracy Score :',accuracy_score(y_test,y_pred) )\n",
    "\n",
    "#Printing the classification report.\n",
    "print ('Report : ')\n",
    "print(classification_report(y_test,y_pred))"
   ]
  },
  {
   "cell_type": "markdown",
   "metadata": {},
   "source": [
    "## Logistic Regression"
   ]
  },
  {
   "cell_type": "code",
   "execution_count": 13,
   "metadata": {},
   "outputs": [
    {
     "name": "stdout",
     "output_type": "stream",
     "text": [
      "Accuracy Score : 0.6468311562651186\n",
      "Report : \n",
      "              precision    recall  f1-score   support\n",
      "\n",
      "           0       0.63      0.53      0.57       267\n",
      "           1       0.78      0.60      0.68       138\n",
      "           2       0.64      0.65      0.64       288\n",
      "           3       0.50      0.78      0.61       399\n",
      "           4       0.85      0.22      0.35        99\n",
      "           5       0.96      0.28      0.43        82\n",
      "           6       0.83      0.53      0.65       136\n",
      "           7       0.73      0.87      0.79       548\n",
      "           8       0.88      0.20      0.33       110\n",
      "\n",
      "    accuracy                           0.65      2067\n",
      "   macro avg       0.75      0.52      0.56      2067\n",
      "weighted avg       0.69      0.65      0.63      2067\n",
      "\n"
     ]
    }
   ],
   "source": [
    "lr = LogisticRegression()\n",
    "clf = OneVsRestClassifier(lr)\n",
    "\n",
    "# fit model on train data.\n",
    "clf.fit(tf_train, y_train)\n",
    "\n",
    "# make predictions for validation set.\n",
    "y_pred_lr = clf.predict(tf_test)\n",
    "\n",
    "#Calculating the accuracy.\n",
    "print( 'Accuracy Score :',accuracy_score(y_test,y_pred_lr))\n",
    "\n",
    "#Printing the classification report.\n",
    "print ('Report : ')\n",
    "print(classification_report(y_test,y_pred_lr))\n",
    "#.7916666666"
   ]
  },
  {
   "cell_type": "code",
   "execution_count": 14,
   "metadata": {},
   "outputs": [
    {
     "data": {
      "text/plain": [
       "<2067x74701 sparse matrix of type '<class 'numpy.float64'>'\n",
       "\twith 319506 stored elements in Compressed Sparse Row format>"
      ]
     },
     "execution_count": 14,
     "metadata": {},
     "output_type": "execute_result"
    }
   ],
   "source": [
    "tf_test"
   ]
  },
  {
   "cell_type": "code",
   "execution_count": 15,
   "metadata": {},
   "outputs": [
    {
     "name": "stdout",
     "output_type": "stream",
     "text": [
      "[7]\n",
      "[1]\n"
     ]
    }
   ],
   "source": [
    "import numpy as np\n",
    "print(clf.predict(apply_tfidf([\"space time is flexible when dealing with aliens in space\"]))) #tiene sentido que sea ciencia ficción\n",
    "print(clf.predict(apply_tfidf([\"The detective wasn't sure if the crime would be solvable\"]))) #tiene sentido que sea crimen"
   ]
  },
  {
   "cell_type": "code",
   "execution_count": null,
   "metadata": {},
   "outputs": [],
   "source": []
  },
  {
   "cell_type": "markdown",
   "metadata": {},
   "source": [
    "## SVM"
   ]
  },
  {
   "cell_type": "code",
   "execution_count": 16,
   "metadata": {},
   "outputs": [
    {
     "name": "stderr",
     "output_type": "stream",
     "text": [
      "C:\\Users\\Alvaro\\AppData\\Local\\Temp\\ipykernel_8308\\847742533.py:11: ExperimentalWarning: OptunaSearchCV is experimental (supported from v0.17.0). The interface can change in the future.\n",
      "  rs = OptunaSearchCV(\n",
      "[I 2024-04-28 20:00:17,347] A new study created in memory with name: no-name-55d19cab-64e7-4006-beea-9b6212ac6530\n",
      "[I 2024-04-28 20:09:52,421] Trial 2 finished with value: 0.24014034795114375 and parameters: {'C': 10, 'kernel': 'poly', 'degree': 0, 'gamma': 'scale', 'shrinking': True, 'probability': False}. Best is trial 2 with value: 0.24014034795114375.\n",
      "[I 2024-04-28 20:11:18,562] Trial 4 finished with value: 0.6370687277757417 and parameters: {'C': 10, 'kernel': 'linear', 'degree': 3, 'gamma': 'scale', 'shrinking': False, 'probability': False}. Best is trial 4 with value: 0.6370687277757417.\n",
      "[I 2024-04-28 20:11:33,389] Trial 5 finished with value: 0.6471096851497882 and parameters: {'C': 1, 'kernel': 'linear', 'degree': 3, 'gamma': 'scale', 'shrinking': False, 'probability': False}. Best is trial 5 with value: 0.6471096851497882.\n",
      "[I 2024-04-28 20:12:16,180] Trial 10 finished with value: 0.6158973717494336 and parameters: {'C': 10, 'kernel': 'sigmoid', 'degree': 5, 'gamma': 'scale', 'shrinking': True, 'probability': False}. Best is trial 5 with value: 0.6471096851497882.\n",
      "[I 2024-04-28 20:12:27,990] Trial 9 finished with value: 0.3636576639447094 and parameters: {'C': 0.1, 'kernel': 'linear', 'degree': 1, 'gamma': 'scale', 'shrinking': False, 'probability': False}. Best is trial 5 with value: 0.6471096851497882.\n",
      "[I 2024-04-28 20:12:31,675] Trial 8 finished with value: 0.3636576639447094 and parameters: {'C': 0.1, 'kernel': 'linear', 'degree': 1, 'gamma': 'auto', 'shrinking': True, 'probability': False}. Best is trial 5 with value: 0.6471096851497882.\n",
      "[I 2024-04-28 20:14:38,126] Trial 7 finished with value: 0.6254547994888193 and parameters: {'C': 100, 'kernel': 'rbf', 'degree': 5, 'gamma': 'scale', 'shrinking': True, 'probability': False}. Best is trial 5 with value: 0.6471096851497882.\n",
      "[I 2024-04-28 20:22:04,425] Trial 12 finished with value: 0.6122679002890206 and parameters: {'C': 1000, 'kernel': 'sigmoid', 'degree': 4, 'gamma': 'scale', 'shrinking': True, 'probability': False}. Best is trial 5 with value: 0.6471096851497882.\n",
      "[I 2024-04-28 20:23:42,540] Trial 16 finished with value: 0.6370687277757417 and parameters: {'C': 1000, 'kernel': 'linear', 'degree': 1, 'gamma': 'scale', 'shrinking': False, 'probability': False}. Best is trial 5 with value: 0.6471096851497882.\n",
      "[I 2024-04-28 20:41:37,751] Trial 11 finished with value: 0.24014034795114375 and parameters: {'C': 0.1, 'kernel': 'rbf', 'degree': 1, 'gamma': 'auto', 'shrinking': False, 'probability': True}. Best is trial 5 with value: 0.6471096851497882.\n",
      "[I 2024-04-28 20:41:41,984] Trial 3 finished with value: 0.24014034795114375 and parameters: {'C': 1, 'kernel': 'rbf', 'degree': 0, 'gamma': 'auto', 'shrinking': True, 'probability': True}. Best is trial 5 with value: 0.6471096851497882.\n",
      "[I 2024-04-28 20:52:10,710] Trial 0 finished with value: 0.3636576639447094 and parameters: {'C': 0.1, 'kernel': 'linear', 'degree': 4, 'gamma': 'scale', 'shrinking': True, 'probability': True}. Best is trial 5 with value: 0.6471096851497882.\n",
      "[I 2024-04-28 20:52:24,474] Trial 14 finished with value: 0.612630876695554 and parameters: {'C': 100, 'kernel': 'sigmoid', 'degree': 1, 'gamma': 'scale', 'shrinking': False, 'probability': True}. Best is trial 5 with value: 0.6471096851497882.\n",
      "[I 2024-04-28 20:52:33,891] Trial 18 finished with value: 0.24014034795114375 and parameters: {'C': 10, 'kernel': 'sigmoid', 'degree': 0, 'gamma': 'auto', 'shrinking': True, 'probability': True}. Best is trial 5 with value: 0.6471096851497882.\n",
      "[I 2024-04-28 20:54:53,749] Trial 6 finished with value: 0.6370687277757417 and parameters: {'C': 10, 'kernel': 'poly', 'degree': 1, 'gamma': 'scale', 'shrinking': True, 'probability': True}. Best is trial 5 with value: 0.6471096851497882.\n",
      "[I 2024-04-28 20:56:58,641] Trial 1 finished with value: 0.24014034795114375 and parameters: {'C': 0.1, 'kernel': 'rbf', 'degree': 0, 'gamma': 'scale', 'shrinking': False, 'probability': True}. Best is trial 5 with value: 0.6471096851497882.\n",
      "[I 2024-04-28 20:57:21,095] Trial 15 finished with value: 0.6471096851497882 and parameters: {'C': 1, 'kernel': 'linear', 'degree': 4, 'gamma': 'auto', 'shrinking': False, 'probability': True}. Best is trial 5 with value: 0.6471096851497882.\n",
      "[I 2024-04-28 20:58:57,615] Trial 13 finished with value: 0.3636576639447094 and parameters: {'C': 0.1, 'kernel': 'linear', 'degree': 4, 'gamma': 'auto', 'shrinking': False, 'probability': True}. Best is trial 5 with value: 0.6471096851497882.\n",
      "[I 2024-04-28 21:06:22,881] Trial 17 finished with value: 0.3072823513146373 and parameters: {'C': 1000, 'kernel': 'poly', 'degree': 3, 'gamma': 'scale', 'shrinking': False, 'probability': True}. Best is trial 5 with value: 0.6471096851497882.\n"
     ]
    },
    {
     "data": {
      "text/html": [
       "<style>#sk-container-id-2 {color: black;}#sk-container-id-2 pre{padding: 0;}#sk-container-id-2 div.sk-toggleable {background-color: white;}#sk-container-id-2 label.sk-toggleable__label {cursor: pointer;display: block;width: 100%;margin-bottom: 0;padding: 0.3em;box-sizing: border-box;text-align: center;}#sk-container-id-2 label.sk-toggleable__label-arrow:before {content: \"▸\";float: left;margin-right: 0.25em;color: #696969;}#sk-container-id-2 label.sk-toggleable__label-arrow:hover:before {color: black;}#sk-container-id-2 div.sk-estimator:hover label.sk-toggleable__label-arrow:before {color: black;}#sk-container-id-2 div.sk-toggleable__content {max-height: 0;max-width: 0;overflow: hidden;text-align: left;background-color: #f0f8ff;}#sk-container-id-2 div.sk-toggleable__content pre {margin: 0.2em;color: black;border-radius: 0.25em;background-color: #f0f8ff;}#sk-container-id-2 input.sk-toggleable__control:checked~div.sk-toggleable__content {max-height: 200px;max-width: 100%;overflow: auto;}#sk-container-id-2 input.sk-toggleable__control:checked~label.sk-toggleable__label-arrow:before {content: \"▾\";}#sk-container-id-2 div.sk-estimator input.sk-toggleable__control:checked~label.sk-toggleable__label {background-color: #d4ebff;}#sk-container-id-2 div.sk-label input.sk-toggleable__control:checked~label.sk-toggleable__label {background-color: #d4ebff;}#sk-container-id-2 input.sk-hidden--visually {border: 0;clip: rect(1px 1px 1px 1px);clip: rect(1px, 1px, 1px, 1px);height: 1px;margin: -1px;overflow: hidden;padding: 0;position: absolute;width: 1px;}#sk-container-id-2 div.sk-estimator {font-family: monospace;background-color: #f0f8ff;border: 1px dotted black;border-radius: 0.25em;box-sizing: border-box;margin-bottom: 0.5em;}#sk-container-id-2 div.sk-estimator:hover {background-color: #d4ebff;}#sk-container-id-2 div.sk-parallel-item::after {content: \"\";width: 100%;border-bottom: 1px solid gray;flex-grow: 1;}#sk-container-id-2 div.sk-label:hover label.sk-toggleable__label {background-color: #d4ebff;}#sk-container-id-2 div.sk-serial::before {content: \"\";position: absolute;border-left: 1px solid gray;box-sizing: border-box;top: 0;bottom: 0;left: 50%;z-index: 0;}#sk-container-id-2 div.sk-serial {display: flex;flex-direction: column;align-items: center;background-color: white;padding-right: 0.2em;padding-left: 0.2em;position: relative;}#sk-container-id-2 div.sk-item {position: relative;z-index: 1;}#sk-container-id-2 div.sk-parallel {display: flex;align-items: stretch;justify-content: center;background-color: white;position: relative;}#sk-container-id-2 div.sk-item::before, #sk-container-id-2 div.sk-parallel-item::before {content: \"\";position: absolute;border-left: 1px solid gray;box-sizing: border-box;top: 0;bottom: 0;left: 50%;z-index: -1;}#sk-container-id-2 div.sk-parallel-item {display: flex;flex-direction: column;z-index: 1;position: relative;background-color: white;}#sk-container-id-2 div.sk-parallel-item:first-child::after {align-self: flex-end;width: 50%;}#sk-container-id-2 div.sk-parallel-item:last-child::after {align-self: flex-start;width: 50%;}#sk-container-id-2 div.sk-parallel-item:only-child::after {width: 0;}#sk-container-id-2 div.sk-dashed-wrapped {border: 1px dashed gray;margin: 0 0.4em 0.5em 0.4em;box-sizing: border-box;padding-bottom: 0.4em;background-color: white;}#sk-container-id-2 div.sk-label label {font-family: monospace;font-weight: bold;display: inline-block;line-height: 1.2em;}#sk-container-id-2 div.sk-label-container {text-align: center;}#sk-container-id-2 div.sk-container {/* jupyter's `normalize.less` sets `[hidden] { display: none; }` but bootstrap.min.css set `[hidden] { display: none !important; }` so we also need the `!important` here to be able to override the default hidden behavior on the sphinx rendered scikit-learn.org. See: https://github.com/scikit-learn/scikit-learn/issues/21755 */display: inline-block !important;position: relative;}#sk-container-id-2 div.sk-text-repr-fallback {display: none;}</style><div id=\"sk-container-id-2\" class=\"sk-top-container\"><div class=\"sk-text-repr-fallback\"><pre>OptunaSearchCV(cv=5, estimator=SVC(), n_jobs=-1, n_trials=50,\n",
       "               param_distributions={&#x27;C&#x27;: CategoricalDistribution(choices=(0.1, 1, 10, 100, 1000)),\n",
       "                                    &#x27;degree&#x27;: IntDistribution(high=5, log=False, low=0, step=1),\n",
       "                                    &#x27;gamma&#x27;: CategoricalDistribution(choices=(&#x27;auto&#x27;, &#x27;scale&#x27;)),\n",
       "                                    &#x27;kernel&#x27;: CategoricalDistribution(choices=(&#x27;linear&#x27;, &#x27;poly&#x27;, &#x27;rbf&#x27;, &#x27;sigmoid&#x27;)),\n",
       "                                    &#x27;probability&#x27;: CategoricalDistribution(choices=(True, False)),\n",
       "                                    &#x27;shrinking&#x27;: CategoricalDistribution(choices=(True, False))},\n",
       "               random_state=99, timeout=900, verbose=False)</pre><b>In a Jupyter environment, please rerun this cell to show the HTML representation or trust the notebook. <br />On GitHub, the HTML representation is unable to render, please try loading this page with nbviewer.org.</b></div><div class=\"sk-container\" hidden><div class=\"sk-item sk-dashed-wrapped\"><div class=\"sk-label-container\"><div class=\"sk-label sk-toggleable\"><input class=\"sk-toggleable__control sk-hidden--visually\" id=\"sk-estimator-id-4\" type=\"checkbox\" ><label for=\"sk-estimator-id-4\" class=\"sk-toggleable__label sk-toggleable__label-arrow\">OptunaSearchCV</label><div class=\"sk-toggleable__content\"><pre>OptunaSearchCV(cv=5, estimator=SVC(), n_jobs=-1, n_trials=50,\n",
       "               param_distributions={&#x27;C&#x27;: CategoricalDistribution(choices=(0.1, 1, 10, 100, 1000)),\n",
       "                                    &#x27;degree&#x27;: IntDistribution(high=5, log=False, low=0, step=1),\n",
       "                                    &#x27;gamma&#x27;: CategoricalDistribution(choices=(&#x27;auto&#x27;, &#x27;scale&#x27;)),\n",
       "                                    &#x27;kernel&#x27;: CategoricalDistribution(choices=(&#x27;linear&#x27;, &#x27;poly&#x27;, &#x27;rbf&#x27;, &#x27;sigmoid&#x27;)),\n",
       "                                    &#x27;probability&#x27;: CategoricalDistribution(choices=(True, False)),\n",
       "                                    &#x27;shrinking&#x27;: CategoricalDistribution(choices=(True, False))},\n",
       "               random_state=99, timeout=900, verbose=False)</pre></div></div></div><div class=\"sk-parallel\"><div class=\"sk-parallel-item\"><div class=\"sk-item\"><div class=\"sk-label-container\"><div class=\"sk-label sk-toggleable\"><input class=\"sk-toggleable__control sk-hidden--visually\" id=\"sk-estimator-id-5\" type=\"checkbox\" ><label for=\"sk-estimator-id-5\" class=\"sk-toggleable__label sk-toggleable__label-arrow\">estimator: SVC</label><div class=\"sk-toggleable__content\"><pre>SVC()</pre></div></div></div><div class=\"sk-serial\"><div class=\"sk-item\"><div class=\"sk-estimator sk-toggleable\"><input class=\"sk-toggleable__control sk-hidden--visually\" id=\"sk-estimator-id-6\" type=\"checkbox\" ><label for=\"sk-estimator-id-6\" class=\"sk-toggleable__label sk-toggleable__label-arrow\">SVC</label><div class=\"sk-toggleable__content\"><pre>SVC()</pre></div></div></div></div></div></div></div></div></div></div>"
      ],
      "text/plain": [
       "OptunaSearchCV(cv=5, estimator=SVC(), n_jobs=-1, n_trials=50,\n",
       "               param_distributions={'C': CategoricalDistribution(choices=(0.1, 1, 10, 100, 1000)),\n",
       "                                    'degree': IntDistribution(high=5, log=False, low=0, step=1),\n",
       "                                    'gamma': CategoricalDistribution(choices=('auto', 'scale')),\n",
       "                                    'kernel': CategoricalDistribution(choices=('linear', 'poly', 'rbf', 'sigmoid')),\n",
       "                                    'probability': CategoricalDistribution(choices=(True, False)),\n",
       "                                    'shrinking': CategoricalDistribution(choices=(True, False))},\n",
       "               random_state=99, timeout=900, verbose=False)"
      ]
     },
     "execution_count": 16,
     "metadata": {},
     "output_type": "execute_result"
    }
   ],
   "source": [
    "param_grid = {\n",
    "    \"C\": CategoricalDistribution([.1, 1, 10, 100, 1000]),\n",
    "    \"kernel\": CategoricalDistribution(['linear', 'poly', 'rbf', 'sigmoid']),\n",
    "    \"degree\": IntDistribution(0, 5),\n",
    "    \"gamma\": CategoricalDistribution([\"auto\",\"scale\"]),\n",
    "    \"shrinking\": CategoricalDistribution([True, False]),\n",
    "    \"probability\": CategoricalDistribution([True, False])\n",
    "}\n",
    "svc = SVC()\n",
    "\n",
    "rs = OptunaSearchCV(\n",
    "    estimator=svc,\n",
    "    param_distributions=param_grid,\n",
    "    n_trials=50,\n",
    "    timeout=15*60,\n",
    "    cv=5,\n",
    "    random_state=99,\n",
    "    n_jobs=-1,\n",
    "    verbose=False\n",
    ")\n",
    "# fit model on train data.\n",
    "rs.fit(tf_train, y_train)\n"
   ]
  },
  {
   "cell_type": "code",
   "execution_count": 17,
   "metadata": {},
   "outputs": [],
   "source": [
    "# len(rs.trials_)"
   ]
  },
  {
   "cell_type": "code",
   "execution_count": 18,
   "metadata": {},
   "outputs": [],
   "source": [
    "# guardamos los resultados para poder recuperarlo sin ejecutar todo\n",
    "import pickle\n",
    "with open(\"svc_clean.pkl\", 'wb') as f:\n",
    "    pickle.dump(rs, f)"
   ]
  },
  {
   "cell_type": "code",
   "execution_count": 19,
   "metadata": {},
   "outputs": [],
   "source": [
    "import pickle\n",
    "with open(\"svc_clean.pkl\", 'rb') as f:\n",
    "    rs = pickle.load(f)"
   ]
  },
  {
   "cell_type": "code",
   "execution_count": 20,
   "metadata": {},
   "outputs": [
    {
     "name": "stdout",
     "output_type": "stream",
     "text": [
      "Best parameters found:  {'C': 1, 'kernel': 'linear', 'degree': 3, 'gamma': 'scale', 'shrinking': False, 'probability': False}\n",
      "Best score found:  0.6471096851497882\n"
     ]
    }
   ],
   "source": [
    "print(\"Best parameters found: \", rs.best_params_)\n",
    "print(\"Best score found: \", rs.best_score_)\n",
    "svc = rs.best_estimator_\n"
   ]
  },
  {
   "cell_type": "code",
   "execution_count": 21,
   "metadata": {},
   "outputs": [
    {
     "name": "stdout",
     "output_type": "stream",
     "text": [
      "Accuracy Score : 0.6686018384131591\n",
      "Report : \n",
      "              precision    recall  f1-score   support\n",
      "\n",
      "           0       0.60      0.57      0.59       267\n",
      "           1       0.74      0.64      0.68       138\n",
      "           2       0.64      0.68      0.66       288\n",
      "           3       0.53      0.76      0.62       399\n",
      "           4       0.73      0.37      0.49        99\n",
      "           5       0.83      0.37      0.51        82\n",
      "           6       0.74      0.56      0.64       136\n",
      "           7       0.81      0.83      0.82       548\n",
      "           8       0.75      0.43      0.54       110\n",
      "\n",
      "    accuracy                           0.67      2067\n",
      "   macro avg       0.71      0.58      0.62      2067\n",
      "weighted avg       0.69      0.67      0.66      2067\n",
      "\n"
     ]
    }
   ],
   "source": [
    "# make predictions for validation set.\n",
    "y_pred = svc.predict(tf_test)\n",
    "\n",
    "#Calculating the accuracy.\n",
    "print( 'Accuracy Score :',accuracy_score(y_test,y_pred) )\n",
    "\n",
    "#Printing the classification report.\n",
    "print ('Report : ')\n",
    "print(classification_report(y_test,y_pred))"
   ]
  }
 ],
 "metadata": {
  "kernelspec": {
   "display_name": "tf",
   "language": "python",
   "name": "python3"
  },
  "language_info": {
   "codemirror_mode": {
    "name": "ipython",
    "version": 3
   },
   "file_extension": ".py",
   "mimetype": "text/x-python",
   "name": "python",
   "nbconvert_exporter": "python",
   "pygments_lexer": "ipython3",
   "version": "3.9.18"
  }
 },
 "nbformat": 4,
 "nbformat_minor": 2
}
